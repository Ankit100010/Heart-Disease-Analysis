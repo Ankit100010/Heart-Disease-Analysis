{
 "cells": [
  {
   "cell_type": "code",
   "execution_count": null,
   "metadata": {},
   "outputs": [],
   "source": [
    "import numpy as np\n",
    "import pandas as pd\n",
    "import seaborn as sns\n",
    "import matplotlib.pyplot as plt\n",
    "\n",
    "sns.set_theme()\n",
    "\n",
    "#__________________________________First'o Fall We Want To Load Out Data__________________________________\n",
    "\n",
    "df = pd.read_csv(r\"C:\\Users\\Lenovo\\Desktop\\New folder\\Complete Data Science\\All Dataset\\heart.csv\")  "
   ]
  },
  {
   "cell_type": "code",
   "execution_count": null,
   "metadata": {},
   "outputs": [],
   "source": [
    "df.head()"
   ]
  },
  {
   "cell_type": "code",
   "execution_count": null,
   "metadata": {},
   "outputs": [],
   "source": [
    "#__________________________________Then check null values to your dataset__________________________________\n",
    "df.isnull().sum()"
   ]
  },
  {
   "cell_type": "code",
   "execution_count": null,
   "metadata": {},
   "outputs": [],
   "source": [
    "#______________________Then Descrice Your Dataset______________________\n",
    "df.info()\n",
    "df.describe()"
   ]
  },
  {
   "cell_type": "code",
   "execution_count": null,
   "metadata": {},
   "outputs": [],
   "source": [
    "# Now for analyzing purpose we want to change the datatype of column 'Age':- \n",
    "\n",
    "df['Age'] = df['Age'].astype(int)"
   ]
  },
  {
   "cell_type": "code",
   "execution_count": null,
   "metadata": {},
   "outputs": [],
   "source": [
    "# Now we want to add a new column 'Age Type' which represents the data of Age in a certain range:- \n",
    "\n",
    "age_type = []\n",
    "\n",
    "for ages in df['Age']:\n",
    "    if ages >= 10 and ages <= 18:\n",
    "        age_type.append('Teenager')\n",
    "    elif ages >= 19 and ages <= 30:\n",
    "        age_type.append('Adult')\n",
    "    elif ages >= 31 and ages <= 50:\n",
    "        age_type.append('Aged')\n",
    "    elif ages >= 51 and ages <= 80:\n",
    "        age_type.append('Old')\n",
    "\n",
    "df['Age Type'] = age_type"
   ]
  },
  {
   "cell_type": "code",
   "execution_count": null,
   "metadata": {},
   "outputs": [],
   "source": [
    "sns.countplot(x='Age Type', data=df, hue='Sex', palette='icefire')\n",
    "plt.show()"
   ]
  },
  {
   "cell_type": "markdown",
   "metadata": {},
   "source": [
    "We analyze that most of the patient are old males i,e. the females ratio is less as compare to males 👍"
   ]
  },
  {
   "cell_type": "code",
   "execution_count": null,
   "metadata": {},
   "outputs": [],
   "source": [
    "# sns.countplot(x='ChestPainType', data=df, hue='Sex', palette='Accent')\n",
    "# plt.show()\n",
    "\n",
    "# sns.countplot(x='ChestPainType', data=df, hue='Age Type', palette='Accent')\n",
    "# plt.show()"
   ]
  },
  {
   "cell_type": "code",
   "execution_count": null,
   "metadata": {},
   "outputs": [],
   "source": [
    "plt.figure(figsize=(10, 6))\n",
    "\n",
    "fig, (ax1, ax2) = plt.subplots(1, 2)\n",
    "\n",
    "sns.countplot(x='ChestPainType', data=df, hue='Sex', palette='Accent', ax=ax1)\n",
    "ax1.set_title('ChestPainType vs Sex')\n",
    "\n",
    "sns.countplot(x='ChestPainType', data=df, hue='Age Type', palette='icefire', ax=ax2)\n",
    "ax2.set_title('ChestPainType vs Age Type')\n",
    "\n",
    "plt.show()\n"
   ]
  },
  {
   "cell_type": "markdown",
   "metadata": {},
   "source": [
    "As we can see the most common chest pain type is Asymptomatic (ASY) type. Most of the males are suffered from it.\n",
    "In this analysis, also the females ratio is less as compare to males."
   ]
  },
  {
   "cell_type": "markdown",
   "metadata": {},
   "source": [
    "In another plot we can see that the chest pain happing happening to old people which is ASY type chest pain."
   ]
  },
  {
   "cell_type": "code",
   "execution_count": null,
   "metadata": {},
   "outputs": [],
   "source": [
    "sns.countplot(x='Age Type', data=df, hue='HeartDisease', palette='icefire')\n",
    "plt.show()"
   ]
  },
  {
   "cell_type": "markdown",
   "metadata": {},
   "source": [
    "In this plot we can easily see that the heart disease is not happening to adult people it is happening to only aged and old people."
   ]
  },
  {
   "cell_type": "code",
   "execution_count": null,
   "metadata": {},
   "outputs": [],
   "source": [
    "normal = 0\n",
    "SfT = 0\n",
    "LfVH = 0\n",
    "\n",
    "for ECG in df['RestingECG']:\n",
    "    if ECG == 'Normal':\n",
    "        normal += 1\n",
    "    elif ECG == 'ST':\n",
    "        SfT += 1\n",
    "    elif ECG == 'LVH':\n",
    "        LfVH += 1\n",
    "\n",
    "labels = ['normal', 'ST', 'LVH']\n",
    "sizes = [normal, SfT, LfVH]\n",
    "\n",
    "# plt.figure(figsize=(8, 8))\n",
    "plt.pie(sizes, labels=labels, autopct='%1.1f%%', startangle=140)\n",
    "plt.axis('equal')\n",
    "plt.show()"
   ]
  },
  {
   "cell_type": "code",
   "execution_count": null,
   "metadata": {},
   "outputs": [],
   "source": [
    "sns.countplot(x='ST_Slope', data=df, color='lightblue', hue='ExerciseAngina')\n",
    "plt.show()"
   ]
  },
  {
   "cell_type": "code",
   "execution_count": null,
   "metadata": {},
   "outputs": [],
   "source": [
    "sns.countplot(x='HeartDisease', data=df, color='lightblue', hue='ExerciseAngina')\n",
    "plt.show()"
   ]
  },
  {
   "cell_type": "markdown",
   "metadata": {},
   "source": [
    "# Now Applying Statistics On Cholesterol Column:- "
   ]
  },
  {
   "cell_type": "code",
   "execution_count": null,
   "metadata": {},
   "outputs": [],
   "source": [
    "# Now We Will Do Some Statistics On Cholesterol Column:- \n",
    "\n",
    "# Standard Deviation of Cholesterol:- \n",
    "\n",
    "mean = np.mean(df['Cholesterol'])\n",
    "square_difference = (df['Cholesterol'] - mean) ** 2\n",
    "variance = np.mean(square_difference)\n",
    "std_dev = np.sqrt(variance)\n",
    "\n",
    "print(\"Mean:\", mean)\n",
    "print(\"Variance:\", variance)\n",
    "print(\"Standard Deviation:\", std_dev)\n",
    "\n",
    "Q1 = np.percentile(df['Cholesterol'],25)\n",
    "Q3 = np.percentile(df['Cholesterol'],75)\n",
    "\n",
    "IQR = Q3 - Q1\n",
    "\n",
    "print('-'*20)\n",
    "print(\"First quartile (Q1):\", Q1)\n",
    "print(\"Third quartile (Q3):\", Q3)\n",
    "print(\"Interquartile Range (IQR):\", IQR)\n",
    "\n",
    "print('-'*20)\n",
    "\n",
    "CV = (std_dev/mean) * 100\n",
    "print('Coefficient Of Variance:', CV)"
   ]
  },
  {
   "cell_type": "markdown",
   "metadata": {},
   "source": [
    "# Applying One Way ANOVA On Cholesterol Column:- "
   ]
  },
  {
   "cell_type": "code",
   "execution_count": null,
   "metadata": {},
   "outputs": [],
   "source": [
    "from scipy.stats import f_oneway\n",
    "\n",
    "method_a = df['Cholesterol']\n",
    "method_b = df['RestingBP']\n",
    "method_c = df['MaxHR']\n",
    "\n",
    "f_statistic, p_value = f_oneway(method_a, method_b, method_c)\n",
    "\n",
    "alpha = 0.05\n",
    "\n",
    "if p_value < alpha:\n",
    "    print(\"Reject null hypothesis: There is a significant difference in means.\")\n",
    "else:\n",
    "    print(\"Fail to reject null hypothesis: There is no significant difference in means.\")\n",
    "\n",
    "print(\"F-statistic:\", f_statistic)\n",
    "print(\"P-value:\", p_value)"
   ]
  },
  {
   "cell_type": "markdown",
   "metadata": {},
   "source": [
    "# Now Applying Confidence Level On Cholesterol Data"
   ]
  },
  {
   "cell_type": "code",
   "execution_count": null,
   "metadata": {},
   "outputs": [],
   "source": [
    "import math\n",
    "\n",
    "x_bar = np.mean(df['Cholesterol'])\n",
    "n = len(df['Cholesterol'])\n",
    "z_value = 1.96\n",
    "sigma = std_dev\n",
    "\n",
    "\n",
    "Lower_level = x_bar - (z_value * (sigma / (math.sqrt(n))))\n",
    "Higher_level = x_bar + (z_value * (sigma / (math.sqrt(n))))\n",
    "\n",
    "print(\"Confidence Interval With 95% Sure:\", (Lower_level, Higher_level))"
   ]
  }
 ],
 "metadata": {
  "kernelspec": {
   "display_name": "Python 3",
   "language": "python",
   "name": "python3"
  },
  "language_info": {
   "codemirror_mode": {
    "name": "ipython",
    "version": 3
   },
   "file_extension": ".py",
   "mimetype": "text/x-python",
   "name": "python",
   "nbconvert_exporter": "python",
   "pygments_lexer": "ipython3",
   "version": "3.11.3"
  }
 },
 "nbformat": 4,
 "nbformat_minor": 2
}
